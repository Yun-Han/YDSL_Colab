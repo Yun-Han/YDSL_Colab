{
  "nbformat": 4,
  "nbformat_minor": 0,
  "metadata": {
    "colab": {
      "name": "Colab - Week 4 - Data Modelling (Analysis) --- Part I.ipynb",
      "provenance": [],
      "collapsed_sections": []
    },
    "kernelspec": {
      "name": "python3",
      "display_name": "Python 3"
    }
  },
  "cells": [
    {
      "cell_type": "markdown",
      "metadata": {
        "id": "ecMgAyrhknHy"
      },
      "source": [
        "# YDS Week 4: Data Modelling --- Part I\n",
        "\n",
        "Dear Young Data Scientists,\n",
        "\n",
        "With a blink of an eye, we have arrived at week 4! 👋≧◉ᴥ◉≦ Congratulations! \n",
        "\n",
        "We learned what the data science lifecycle is in week 1. In weeks 2-3, we conquered asking questions, data creation, data collection, and data visualization. Now, we only need one last step to complete the data science lifecycle: **Data Modelling**.\n",
        "\n",
        "**Data modelling** is carried out using **data analytics**, which we will cover this week, or using **machine learning** (or artificial intelligence), which we will cover next week.\n",
        "\n",
        "No worries if you haven't heard of these concepts yet (they are not as intimidating as they sound - we promise). We will walk you through these concepts using analogies and examples!! (ɔ◔‿◔)ɔ ♥. \n",
        "\n",
        "Simply speaking, **data modelling** is the stage where data scientists finally get the chance to taste the fruits of their efforts.\n",
        "\n",
        "<div align=\"left\"> \n",
        "<figure class=\"image\">\n",
        "  <img src=\"https://raw.githubusercontent.com/Yun-Han/YDSL_images/master/TasteLemon.gif\" width ='300'>\n",
        "</figure>\n",
        "<div align=\"left\">\n",
        "\n",
        "<div align=\"right\"> \n",
        "\n",
        "Cheers,\n",
        "\n",
        "YDSL Team\n",
        "\n",
        "***\n",
        "***\n",
        "\n",
        "\n"
      ]
    },
    {
      "cell_type": "markdown",
      "metadata": {
        "id": "gNXPSzxePk8E"
      },
      "source": [
        "# <div align=\"center\">  New Information to Explore: **Feature Engineering**\n",
        "\n",
        "In the live session of week 4, we have gathered data about celebrities from THE CELEBRITY 100 on Forbes or the most popular stars on YouTube or Twitch. Below is the [dataset](https://docs.google.com/spreadsheets/d/1Vca2tbPlV2F9B_R3Z9ax_uq13i5nzjaHsGbCdNkQh-s/edit?usp=sharing) you have seen during the live session. \n"
      ]
    },
    {
      "cell_type": "code",
      "metadata": {
        "colab": {
          "base_uri": "https://localhost:8080/",
          "height": 660
        },
        "id": "nFZbvZo-XDDJ",
        "cellView": "form",
        "outputId": "7bd256a4-90be-44f1-a3d1-3502db97865a"
      },
      "source": [
        "#@title Celebrities (Forbes 100, Twitch and YouTube):\n",
        "import IPython\n",
        "IPython.display.HTML('<iframe src=\"https://docs.google.com/spreadsheets/d/e/2PACX-1vTzJ9IzPmB138K0Ue2UmLpr2YXG-OF3qOtUNshrg4666YosFz6fm2s2WuWkSNX16m5FaLFSXvMuITQ2/pubhtml?gid=0&amp;single=true&amp;widget=true&amp;headers=false\" width=\"640\" height=\"640\" frameborder=\"0\" marginheight=\"0\" marginwidth=\"0\">Loading…</iframe>')"
      ],
      "execution_count": null,
      "outputs": [
        {
          "output_type": "execute_result",
          "data": {
            "text/html": [
              "<iframe src=\"https://docs.google.com/spreadsheets/d/e/2PACX-1vTzJ9IzPmB138K0Ue2UmLpr2YXG-OF3qOtUNshrg4666YosFz6fm2s2WuWkSNX16m5FaLFSXvMuITQ2/pubhtml?gid=0&amp;single=true&amp;widget=true&amp;headers=false\" width=\"640\" height=\"640\" frameborder=\"0\" marginheight=\"0\" marginwidth=\"0\">Loading…</iframe>"
            ],
            "text/plain": [
              "<IPython.core.display.HTML object>"
            ]
          },
          "metadata": {
            "tags": []
          },
          "execution_count": 1
        }
      ]
    },
    {
      "cell_type": "markdown",
      "metadata": {
        "id": "Kg-mgJxGe88z"
      },
      "source": [
        "We have talked about data features. In the celebrity dataset, we have features like **career**, **gender**, **net worth**, and **age** etc.\n",
        "\n",
        "Feature engineering involves the **selection**, **aggregation**, and **transformation** of features.\n",
        "\n",
        "## What is **feature selection** then?\n",
        "\n",
        "When we get the list of 100 celebrities from Forbes, we only have a list of names. We have to think about what features we want to include. It is like when we order Poke bowl or ice cream, we have to decide what toppings we want to include in our Poke or ice cream. This process of including features is called feature selection.\n",
        "\n",
        "<div align=\"center\"> \n",
        "<figure class=\"image\">\n",
        "  <img src=\"https://github.com/Yun-Han/YDSL_images/blob/master/IceCreamTopping.gif?raw=true\" width ='350'>\n",
        "<figcaption>Toppings Unwanted!</figcaption>\n",
        "</figure>\n",
        "<div align=\"left\">\n",
        "\n",
        "\n",
        "What features to pick really depends on the problem you are interested in. For example, if we are interested in studying which country has the most celebrities, we may need to include a new feature called nationality in our dataset.\n",
        "\n",
        "## What is **feature aggregation**?\n",
        "\n",
        "Often times, we need  more than one features to study the problem and these features may come from different sources. For example, we collect a list of names of celecbrities from [Forbes](https://www.forbes.com/celebrities/). We collect other data features like age, height, and skin tone from different websites such as [Statista](https://www.statista.com/markets/416/topic/1003/celebrities/#overview) and [Wikipedia](https://en.wikipedia.org/wiki/Billie_Eilish). Then, we aggregate the data features from different places into one spread sheet with different features corresponding to different columns.\n",
        "\n",
        "Feature aggregation is the process of aggregating all data features from different places into a well organized datasheet.\n",
        "\n",
        "| <img src=\"https://raw.githubusercontent.com/Yun-Han/YDSL_images/master/Sashimi.gif\" width=\"450\" /> |  <font color=\"orange\" size=3.5>Names from [Forbes](https://www.forbes.com/celebrities/) +  Net Worth, Height from [Statista](https://www.statista.com/markets/416/topic/1003/celebrities/#overview)  + Ages, Career from [Wikipedia](https://en.wikipedia.org/wiki/Billie_Eilish) <br /> ----> Our feature engineered celebrity dataset <br />  . <br /> Wild Salmon from $\\color{CornflowerBlue}{\\textrm{Alaska}}$ + Tuna from $\\color{CornflowerBlue}{\\textrm{Florida}}$ + Yellowtail from $\\color{CornflowerBlue}{\\textrm{Australia}}$ <br /> ----> A well crafted Sashimi <br /> </font> |\n",
        "|-|-|\n",
        "\n",
        "\n"
      ]
    },
    {
      "cell_type": "markdown",
      "metadata": {
        "id": "klNjIIyhFvLj"
      },
      "source": [
        "## What is **feature transformation**?\n",
        "\n",
        "Transforming raw variable into features that can be better understood by human beings or computers is a key step for data modelling. It helps facilitate the modelling process.\n",
        "\n",
        "One example of raw variable we collect in our celebrity dataset is 19891213 for Taylor Swift. You probably already know what it means. This is a string of numbers represent her date of birth --- 19, Dec, 1989. In order to do analysis, we transofrm this raw variable \"19891213\" into a nicer form that can well describe the feature we need, that is, \"31\", her age. This process is called feature trasofrmation.\n",
        "\n",
        "<div align=\"center\"> \n",
        "<figure class=\"image\">\n",
        "  <img src=\"https://raw.githubusercontent.com/Yun-Han/YDSL_images/master/Transformation.gif\" width ='400'>\n",
        "<figcaption>The only transformation I know before this lession!</figcaption>\n",
        "</figure>\n",
        "<div align=\"left\">\n",
        "\n",
        "\n",
        "Another example of feature transformation is the skin tone value. First, we have a picture of this celebrity, we transofrm the picture into a RGB value. Then, we transofrm the RGB value into a skin lightness score.  \n"
      ]
    },
    {
      "cell_type": "markdown",
      "metadata": {
        "id": "fZASywdhXq71"
      },
      "source": [
        "## Feature engineering is NOT a one-shot thing!\n",
        "\n",
        "**Feature engineering** requires a creative combination of domain expertise and the insights obtained from the data creation&collection step. Feature engineering is a balancing act of finding and including informative features, but at the same time excluding too many unrelated features.\n",
        "\n",
        "<div align=\"center\"> \n",
        "<figure class=\"image\">\n",
        "  <img src=\"https://github.com/Yun-Han/YDSL_images/blob/master/Avoiding.gif?raw=true\" width ='250'>\n",
        "<figcaption>Avoiding unrelated features!</figcaption>\n",
        "</figure>\n",
        "<div align=\"left\">\n",
        "\n",
        "Informative features improve your result; unrelated features introduce unnecessary noise into the model. Should you encounter any problems in the modelling, we can always come back and re-engineer your features!!\n",
        "\n",
        "***\n",
        "***"
      ]
    },
    {
      "cell_type": "markdown",
      "metadata": {
        "id": "qzloSVOCuATl"
      },
      "source": [
        "# <div align=\"center\">**THE END OF MODULE 4**\n",
        "\n",
        "Phew! We finally make it! In this week, we learned so many concepts about data modelling! A BIG BIG BIG kudos to you!\n",
        "\n",
        "Next week, we will dive deeper into machine learning models, where we will see how computers and data science are used to build \"artificial intelligence\" systems in real life.\n",
        "\n"
      ]
    }
  ]
}