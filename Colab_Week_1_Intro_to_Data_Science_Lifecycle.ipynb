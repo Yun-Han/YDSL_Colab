{
  "nbformat": 4,
  "nbformat_minor": 0,
  "metadata": {
    "colab": {
      "name": "Colab - Week 1: Intro to Data Science Lifecycle.ipynb",
      "provenance": [],
      "collapsed_sections": [],
      "include_colab_link": true
    },
    "kernelspec": {
      "name": "python3",
      "display_name": "Python 3"
    }
  },
  "cells": [
    {
      "cell_type": "markdown",
      "metadata": {
        "id": "view-in-github",
        "colab_type": "text"
      },
      "source": [
        "<a href=\"https://colab.research.google.com/github/Yun-Han/YDSL_Colab/blob/main/Colab_Week_1_Intro_to_Data_Science_Lifecycle.ipynb\" target=\"_parent\"><img src=\"https://colab.research.google.com/assets/colab-badge.svg\" alt=\"Open In Colab\"/></a>"
      ]
    },
    {
      "cell_type": "markdown",
      "metadata": {
        "id": "ecMgAyrhknHy"
      },
      "source": [
        "&copy; Young Data Scientists League, 2021\n",
        "\n",
        "<div align=\"center\">  \n",
        "\n",
        "# YDSL Week 1: At Your Own Pace\n",
        "\n",
        "\n",
        "## What you will learn:\n",
        "\n",
        "Congratulations! You've successfully completed the Young Data Scientist League's kickoff activity: The skin tone representation! You've just gotten a taste of the kinds of patterns you can discover with real-world data, like online magazines.\n",
        "\n",
        "In the next few weeks, you'll work with your team to explore how you can use data to shape the world. This might include using data to tell stories from your own life, exploring issues that are meaningful to your community, or any other project that you and your team can imagine! In this module, you'll learn a little bit more about the power of using data to solve real-world problems and you'll be introduced to a helpful process that we like to call the Data Lifecycle.\n"
      ]
    },
    {
      "cell_type": "markdown",
      "metadata": {
        "id": "ojWT0NYEQLSh"
      },
      "source": [
        "# <div align=\"center\">  New Information to Explore: **What is Data?**\n",
        "***\n",
        "\n",
        "We may wonder what exactly is data. Data is simply a collection of figures, words, numbers, and etc. Data is everywhere in the world we live.\n",
        "\n",
        "### Data could be\n",
        "- Average temperature in Seattle (average over years)\n",
        "<div align=\"center\"> \n",
        "<figure class=\"image\">\n",
        "  <img src=\"https://raw.githubusercontent.com/Yun-Han/YDSL_images/master/Seattle-Temperature.gif\", width = \"60%\">\n",
        "  <!-- <figcaption>Source: https://www.census.gov/popclock/</figcaption> -->\n",
        "</figure>\n",
        "- Linkedin profiles and photos\n",
        "<div align=\"center\"> \n",
        "<figure class=\"image\">\n",
        "  <img src=\"https://raw.githubusercontent.com/Yun-Han/YDSL_images/master/BillGatesLinkedinProfile.png\", width = \"60%\">\n",
        "  <!-- <figcaption>Source: https://www.census.gov/popclock/</figcaption> -->\n",
        "</figure>\n",
        "- Stock prices\n",
        "<div align=\"center\"> \n",
        "<figure class=\"image\">\n",
        "  <img src=\"https://raw.githubusercontent.com/Yun-Han/YDSL_images/master/StockPrice.png\", width = \"60%\">\n",
        "  <!-- <figcaption>Source: https://www.census.gov/popclock/</figcaption> -->\n",
        "</figure>\n",
        "\n",
        "\n",
        "\n",
        "\n",
        "\n"
      ]
    },
    {
      "cell_type": "markdown",
      "metadata": {
        "id": "bUj7aQCnNb_v"
      },
      "source": [
        "# <div align=\"center\">  New Information to Explore: **The Power of Data**\n",
        "***\n",
        "\n",
        "\n",
        "## Data Is Powerful!\n",
        "\n",
        "What do entrepreneurs, content creators, and athletes have in common? They are all data-driven professionals that use data every day to make decisions and improve their craft.\n",
        "\n",
        "\n",
        "<div align=\"left\"> \n",
        "<figure class=\"image\">\n",
        "  <img src=\"https://raw.githubusercontent.com/Yun-Han/YDSL_images/master/ElonMuskDance.gif\", width = \"40%\">\n",
        "  <!-- <figcaption>Source: https://www.census.gov/popclock/</figcaption> -->\n",
        "</figure>\n",
        "\n",
        "\n",
        "\n",
        "\n",
        "\n",
        "For example, content creators use data to monitor how many people view their content across different platforms. This helps them identify strategies to reach out to new viewers and grow their channels."
      ]
    },
    {
      "cell_type": "code",
      "metadata": {
        "colab": {
          "base_uri": "https://localhost:8080/",
          "height": 616
        },
        "id": "oynzF5-33fKg",
        "outputId": "c9cce39d-ee65-45fd-9af3-273526f7f513",
        "cellView": "form"
      },
      "source": [
        ""
      ],
      "execution_count": null,
      "outputs": [
        {
          "output_type": "execute_result",
          "data": {
            "text/html": [
              "<blockquote class=\"twitter-tweet\"><p lang=\"en\" dir=\"ltr\">IM 36!!!!! IM 36!!!! STOP THROWING THE BALL 😡😡😡🤣🤣🤣🤣🤣💀 <a href=\"https://t.co/KkU32nQVKU\">https://t.co/KkU32nQVKU</a></p>&mdash; LeBron James (@KingJames) <a href=\"https://twitter.com/KingJames/status/1349817466050887681?ref_src=twsrc%5Etfw\">January 14, 2021</a></blockquote> <script async src=\"https://platform.twitter.com/widgets.js\" charset=\"utf-8\"></script>"
            ],
            "text/plain": [
              "<IPython.core.display.HTML object>"
            ]
          },
          "metadata": {
            "tags": []
          },
          "execution_count": 1
        }
      ]
    },
    {
      "cell_type": "markdown",
      "metadata": {
        "id": "60tUGyc_4cbR"
      },
      "source": [
        "In one Sports Illustrated Interview [Meet RDCworld1: The NBA’s Favorite Content Creators](https://www.si.com/nba/2021/02/09/supreme-dreams-rdcworld1-nba-youtube), Mark Phillips of RDCworld shares why NBA Twitter is \"very essential to [his company's] success\". In 2016, RDCworld launched its [first NBA parody](https://www.youtube.com/watch?v=COa3gEuf4XI) on Twitter.\n",
        "\n",
        "**Then, in January 2021, LeBron James tweeted an RDCworld video that was retweeted over 200,000 times**.\n",
        "\n",
        "What do you notice in the graph below?\n",
        "(Hint: Notice anything different about January 2021?)\n"
      ]
    },
    {
      "cell_type": "markdown",
      "metadata": {
        "id": "CAsXLxQJNNMJ"
      },
      "source": [
        "<!-- ![week1_rdcworld_historical_views.PNG](https://raw.githubusercontent.com/Yun-Han/YDSL_images/master/rdcworld_historical_views.png) -->\n",
        "\n",
        "<div align=\"center\"> \n",
        "<figure class=\"image\">\n",
        "  <img src=\"https://raw.githubusercontent.com/Yun-Han/YDSL_images/master/rdcworld_historical_views.png\", width = \"100%\">\n",
        "  <figcaption>Source: SocialBlade</figcaption> \n",
        "</figure>"
      ]
    },
    {
      "cell_type": "markdown",
      "metadata": {
        "id": "BCrbqW0PN0sR"
      },
      "source": [
        "### Discussion Questions\n",
        "1. What do you notice in the graph above?\n",
        "2. What does this graph make you wonder about?\n",
        "3. Imagine you are an RDCworld member. How might this data help you decide how to promote your content?\n",
        "\n",
        "*Fun fact: Using data science, some marketing firms estimate the value of a single LeBron tweet to be worth nearly **$140,000** ([source](https://bleacherreport.com/articles/2551786-sponsored-tweet-from-lebron-james-reportedly-worth-140000)). Do you think that's an accurate estimate?*"
      ]
    },
    {
      "cell_type": "code",
      "metadata": {
        "colab": {
          "base_uri": "https://localhost:8080/",
          "height": 1000
        },
        "id": "MXx8HnEWk5Gv",
        "outputId": "a286daad-9f8e-4d88-b86c-9deaf2346cba"
      },
      "source": [
        "#@title Your Thought Matters (Optional)\n",
        "import IPython\n",
        "\n",
        "IPython.display.HTML('<iframe src=\"https://docs.google.com/forms/d/e/1FAIpQLSd1GQWToZu7-xWMsY8t-E_DmPd4T6mgm_TfMVKyq58guVC6_g/viewform?embedded=true\" width=\"640\" height=\"1130\" frameborder=\"0\" marginheight=\"0\" marginwidth=\"0\">Loading…</iframe>')"
      ],
      "execution_count": null,
      "outputs": [
        {
          "output_type": "execute_result",
          "data": {
            "text/html": [
              "<iframe src=\"https://docs.google.com/forms/d/e/1FAIpQLSd1GQWToZu7-xWMsY8t-E_DmPd4T6mgm_TfMVKyq58guVC6_g/viewform?embedded=true\" width=\"640\" height=\"1130\" frameborder=\"0\" marginheight=\"0\" marginwidth=\"0\">Loading…</iframe>"
            ],
            "text/plain": [
              "<IPython.core.display.HTML object>"
            ]
          },
          "metadata": {},
          "execution_count": 3
        }
      ]
    },
    {
      "cell_type": "markdown",
      "metadata": {
        "id": "w4r7Q4sMLxND"
      },
      "source": [
        "### Case Summary\n",
        "\n",
        "Data helps content creators, like RDCworld, decide how to best spend their time and effort to boost their Twitter following. Since starting their channel in 2012, RDCworld has accumulated over 700 million views on YouTube."
      ]
    },
    {
      "cell_type": "markdown",
      "metadata": {
        "id": "Tf65xFlAGZGy"
      },
      "source": [
        "## You can learn to use data too!\n",
        "\n",
        "The RDCworld example from above and the activity about skin tones that you encountered in our kickoff both show that data can be powerful. Over the next five weeks, we'll explore how you, too, can use data in your own life to become a Young Data Scientist.\n"
      ]
    },
    {
      "cell_type": "markdown",
      "metadata": {
        "id": "5P-aVmZgdYUD"
      },
      "source": [
        "***\n",
        "<div align=\"center\"> \n",
        "\n",
        "# New Information to Explore: Intro to Data Science Lifecycle\n"
      ]
    },
    {
      "cell_type": "markdown",
      "metadata": {
        "id": "IOvqo8ridQiL"
      },
      "source": [
        "## The data science life cycle is a treasure map that every data scentist uses to hunt for gold, a.k.a, valuable information. \n",
        "\n",
        "<div align=\"center\"> \n",
        "<figure class=\"image\">\n",
        "  <img src=\"https://raw.githubusercontent.com/Yun-Han/YDSL_images/master/OpenTreasureBox.gif\", width = \"50%\">\n",
        "  <!-- <figcaption>Source: SocialBlade</figcaption>  -->\n",
        "</figure>\n",
        "\n",
        "<div align=\"left\"> \n",
        "\n",
        "Most data science projects have a similar workflow or structure, that is used to organize a project. The lifecycle below outlines the major stages that a data science project typically goes through. This lifecycle will help you to get a sense of what data professionals do in the real world.\n",
        "\n",
        "\n",
        "<div align=\"center\"> \n",
        "<figure class=\"image\">\n",
        "  <img src=\"https://raw.githubusercontent.com/Yun-Han/YDSL_images/master/Life%20Cycle%20Updated.png\", width = \"100%\">\n",
        "  <!-- <figcaption>Source: SocialBlade</figcaption>  -->\n",
        "</figure>\n",
        "\n",
        "<div align=\"left\"> \n",
        "\n",
        "First, the data science lifecycle begins with **CURIOSITY**: a question or topic that you're curious about. \n",
        "\n",
        "\n",
        "<div align=\"center\"> \n",
        "<figure class=\"image\">\n",
        "  <img src=\"https://raw.githubusercontent.com/Yun-Han/YDSL_images/master/8udq.gif\", width = \"40%\">\n",
        "  <!-- <figcaption>Source: SocialBlade</figcaption>  -->\n",
        "</figure>\n",
        "\n",
        "<div align=\"left\"> \n",
        "\n",
        "For example, how well does the media represent people across all skin tones? Is the skin tone data we collect in the live session biased? What is the best way for me to grow my YouTube channel?\n",
        "\n",
        "\n",
        "Second, data scientists find, collect, or create relevant data to explore their questions.\n",
        "\n",
        "\n",
        "\n",
        "For example, we **created** valuable skin tone data in our life session to study skin representation! Or in another example, we might **collect** data from twitter or YouTube to study how to promote our own channel.\n",
        "\n",
        "| <img src=\"https://raw.githubusercontent.com/Yun-Han/YDSL_images/master/CollectingDog.gif\" width=\"200\" /> |  <font color=\"orange\" size=5>Finding, collecting, or creating data <br />  can be a tough task.</font> |\n",
        "|-|-|\n",
        "\n",
        "\n",
        "Third, based on the data that data scientists created or collected, they look for patterns and trends - this stage is called \"data modeling\". \n",
        "\n",
        "For example, we built a histogram (the graph with bars) in our live session to study patterns of skin tone representation. We can also collect skin tone data over a long period of time to study trends in how the media represents people with different colors over time.\n",
        "\n",
        "<div align=\"center\"> \n",
        "<figure class=\"image\">\n",
        "  <img src=\"https://raw.githubusercontent.com/Yun-Han/YDSL_images/master/data-modeling.gif\", width = \"40%\">\n",
        "  <!-- <figcaption>Source: SocialBlade</figcaption>  -->\n",
        "</figure>\n",
        "\n",
        "<div align=\"left\"> \n",
        "\n",
        "\n",
        "Last but not the least, there are two possible outcomes of the data exploration process: **creating knowledge** and **generating automation**, where you use the data to do work for you.\n",
        "\n",
        "An example of the knowledge that we created might be \"Lighter skin tones are represented more in beauty magazines than darker skin in 1990s by x%, but in the last five years, magazines have tended to have more balanced skin tone representation.\"\n"
      ]
    },
    {
      "cell_type": "markdown",
      "metadata": {
        "id": "Of8UqTvndUbc"
      },
      "source": [
        "---\n",
        "<div align=\"center\"> \n",
        "\n",
        "## Figure: Example of Lifecycle (Skin Tone Activity)\n",
        "\n",
        "<div align=\"left\"> \n",
        "\n",
        "Through the skin tone example we went through in the live session, you can have a better understanding of what the data science life cycle is and how it guides our thinking!!"
      ]
    },
    {
      "cell_type": "markdown",
      "metadata": {
        "id": "p61cDbehnFKB"
      },
      "source": [
        "<div align=\"center\"> \n",
        "<figure class=\"image\">\n",
        "  <img src=\"https://raw.githubusercontent.com/Yun-Han/YDSL_images/master/Data%20Science%20Lifecycle%20Skin%20Tone.png\", width = \"100%\">\n",
        "  <!-- <figcaption>Source: SocialBlade</figcaption>  -->\n",
        "</figure>\n",
        "\n"
      ]
    },
    {
      "cell_type": "markdown",
      "metadata": {
        "id": "fsKUDqO0dx2U"
      },
      "source": [
        "---\n",
        "<div align=\"center\"> \n",
        "\n",
        "## Figure: Example of Lifecycle (RDCworld)\n",
        "\n",
        "<div align=\"left\"> \n",
        "Here is another example of the data lifecycle using social media data ti grow your own channel! Explore this example in the image below to get a sense of how the data lifecycle applies to this topic.\n"
      ]
    },
    {
      "cell_type": "markdown",
      "metadata": {
        "id": "bSjOVc-_d6QR"
      },
      "source": [
        "<div align=\"center\"> \n",
        "<figure class=\"image\">\n",
        "  <img src=\"https://raw.githubusercontent.com/Yun-Han/YDSL_images/master/Lifecycle%20RDCworld.png\", width = \"100%\">\n",
        "  <!-- <figcaption>Source: SocialBlade</figcaption>  -->\n",
        "</figure>"
      ]
    },
    {
      "cell_type": "markdown",
      "metadata": {
        "id": "9q-82NnBQXV-"
      },
      "source": [
        "## Bonus Content: Content Creator Data\n",
        "\n",
        "https://chioualexander.medium.com/what-i-learned-running-a-youtube-channel-with-120-000-subscribers-content-genres-part-2-35bdd14f1764\n",
        "\n",
        "https://www.youtube.com/watch?v=6m5P_n5njCQ"
      ]
    },
    {
      "cell_type": "markdown",
      "metadata": {
        "id": "P4DcTwi00-VI"
      },
      "source": [
        "### Congratulations!\n",
        "\n",
        "You should be so proud of yourself for finishing Week 1 of bootcamp! It is time to celebrate! Go enjoy a nice meal, play sports with your friends, watch a movie you have been wanting to see, or go do a freestyle dance. We'll see you back here for more data science fun next week!\n",
        "\n",
        "<div align=\"center\"> \n",
        "<figure class=\"image\">\n",
        "  <img src=\"\n",
        "https://raw.githubusercontent.com/Yun-Han/YDSL_images/master/CelebrateWoman.gif\", width = \"50%\">\n",
        "  <!-- <figcaption>Source: https://www.census.gov/popclock/</figcaption> -->\n",
        "</figure>\n",
        "\n",
        "<div align=\"left\">\n",
        "\n",
        "### Next time, we will talk more about how to ask good questions and learn more about data together! Can't wait to see you again!"
      ]
    },
    {
      "cell_type": "markdown",
      "metadata": {
        "id": "EPYlT_ebY18D"
      },
      "source": [
        "&copy; Young Data Scientists League, 2021"
      ]
    }
  ]
}