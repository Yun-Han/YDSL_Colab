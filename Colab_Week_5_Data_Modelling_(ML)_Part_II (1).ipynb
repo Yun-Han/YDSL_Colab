{
  "nbformat": 4,
  "nbformat_minor": 0,
  "metadata": {
    "colab": {
      "name": "Colab -Week 5- Data Modelling (ML) --- Part II.ipynb",
      "provenance": [],
      "collapsed_sections": []
    },
    "kernelspec": {
      "name": "python3",
      "display_name": "Python 3"
    }
  },
  "cells": [
    {
      "cell_type": "markdown",
      "metadata": {
        "id": "ecMgAyrhknHy"
      },
      "source": [
        "# YDS Week 5: Data Modelling (ML) --- Part II\n",
        "\n",
        "Dear Young Data Scientists,\n",
        "\n",
        "Hurrah! \\ (•◡•) / We have arrived at the last, but not the least, week of our bootcamp. We have learned so much together: from getting a first taste of data science to data modelling. Without your dedication and hard work, it would not have been possible. \n",
        "\n",
        "Last week, we learned how to use Google Data Studio to do data modelling through a mini-project. This week, we will reach the heights of our journey: **Machine Learning** (ML) models. **Machine learning** can teach computers how to make decisions and predictions, by giving them the ability to learn from data. For example, in week 5's lesson, we use **machine learning** to teach computers to **generage new skin stones**, by using existing **skin stone data**.\n",
        "\n",
        "\n",
        "\n",
        "Machine learning models can be classified into four major types: **supervised learning**, **unsupervised learning**, **reinforcement learning**, and **semi-supervised learning**. No worries if you have no idea what they are. You will understand what these terms mean after this module!\n",
        "\n",
        "**Machine Learning models** have been applied in many areas that we are interested in such as **healthcare**, **climate change**, **education**, etc. Using machine learning models, you **make change**, **get creative**, **solve problems**, and MORE.\n",
        "\n",
        "Cheers,\n",
        "\n",
        "YDSL Team\n",
        "\n",
        "***\n",
        "***\n",
        "\n",
        "\n"
      ]
    },
    {
      "cell_type": "markdown",
      "metadata": {
        "id": "I-U1rMy1CXEe"
      },
      "source": [
        "# <div align=\"center\">  New Information to Explore: **What is AI?**\n",
        "\n",
        "People talk about **AI** all the time nowadays. But what does **AI** mean exactly?\n",
        "\n",
        "<div align=\"center\"> \n",
        "<figure class=\"image\">\n",
        "  <img src=\"\n",
        "https://raw.githubusercontent.com/Yun-Han/YDSL_images/master/kidsWonder.gif\" width ='200'>\n",
        "</figure>\n",
        "<div align=\"left\">\n",
        "\n",
        "**AI** stands for **Artificial Intelligence**. There is no one thing that defines **AI**. It is more like **a tapestry of modern intelligent technologies knit together**.\n",
        "\n",
        "At YDSL, we consider **AI** as **a branch of computer science** that allows computers to **make predictions and decisions** to solve problems.\n",
        "\n",
        "<div align=\"center\"> \n",
        "<figure class=\"image\">\n",
        "  <img src=\"\n",
        "https://raw.githubusercontent.com/Yun-Han/YDSL_images/master/CS%20AI%20ML%20-%20graphic.png\" width ='500'>\n",
        "</figure>\n",
        "<figcaption>Source: G2.com </figcaption>\n",
        "<div align=\"left\">\n",
        "\n",
        "**AI** is reforming our world. You can use **AI** to **solve problems** you care about such as **health care**, **climage change**, **social justice**.\n",
        "\n",
        "\n",
        "\n",
        "**Machine learning** is THE most important piece in **AI** that teaches computers how to **make decisions and predictions**, by giving them the ability to **learn from data**. \n",
        "\n",
        "This module will focus on introducing you a bunch of **machine learning models**, which **you** can use to **make change**, **get creative**, **solve problems**, and **MORE**.\n",
        "\n",
        "### Ready to take a deeper dive into **machine learning**? Here we go.\n",
        "\n",
        "\n",
        "\n",
        "\n",
        "***\n",
        "***\n"
      ]
    },
    {
      "cell_type": "markdown",
      "metadata": {
        "id": "8V6hb9_EB147"
      },
      "source": [
        "# <div align=\"center\">  New Information to Explore: **Machine Learning Models — Supervised Learning**\n",
        "\n",
        "Machine learning models can be classfied into four categories: **Supervised Learning**, **Unsupervised Learning**, **Semi-Supervised Learning**, and **Reinforcement Learning**.\n",
        "\n",
        "\n",
        "<div align=\"center\"> \n",
        "<figure class=\"image\">\n",
        "  <img src=\"\n",
        "https://raw.githubusercontent.com/Yun-Han/YDSL_images/master/HandWriting.png\" width =''>\n",
        "</figure>\n",
        "<figcaption>Pleas bear with my awesome(awful) hand writing! (>人<；)</figcaption>\n",
        "<div align=\"left\">\n",
        "\n",
        "### Supervised Learning:\n",
        "To understand what is supervised learning, let's pick up some of our childhood memories! Think back to the days when you learned your animal names.\n",
        "\n",
        "<font color=\"lightblue\" size=3.5>You were probably just sitting in your cozy little chair at your home,  <br /> mash leafing through a picture book of animal drawings,  <br /> while your parents tried to teach you what a camel looks like.  <br /> </font>\n",
        "\n",
        "<div align=\"center\"> \n",
        "<figure class=\"image\">\n",
        "  <img src=\"\n",
        "https://raw.githubusercontent.com/Yun-Han/YDSL_images/master/CamelRiding.gif\" width ='300'>\n",
        "</figure>\n",
        "<div align=\"left\">\n",
        "\n",
        "\n",
        "\n",
        "<font color=\"lightblue\" size=3.5>Any drawings could have been a camel!</font>\n",
        "\n",
        "|<img src=\"https://raw.githubusercontent.com/Yun-Han/YDSL_images/master/CuteRacoon.gif\" width=\"300\" /> |  <font color=\"lightblue\" size=3.5>You ask your parents, \"is this a camel?\" </font> | \n",
        "|-|-|\n",
        "\n",
        "<font color=\"lightblue\" size=3.5>\"No\", your parents calmly supervised your learning,<br /> by labelling the non-camels and celebrating the actual camels. </font>\n",
        "\n",
        "<font color=\"lightblue\" size=3.5>Even though not every camel looks the same, <br />\n",
        "after many examples (thanks to your parents' patience),\n",
        "<br /> you learned the basic features that make up a camel.</font>\n",
        "\n",
        "\n",
        "|<img src=\"https://raw.githubusercontent.com/Yun-Han/YDSL_images/master/Alpaca.gif\" width=\"300\" /> |  <font color=\"lightblue\" size=3.5>Now, although you sometimes weren't sure whether that thing you looked at was a camel indeed,<br />especially when you looked at a alpaca, <br /> you learned to give it a good guess at least.</font> | \n",
        "|-|-|\n",
        "\n",
        "\n",
        "\n",
        "\n",
        "\n",
        "Supervised meachine learning is similar. \n",
        "1. You give your model examples (data collected&created).\n",
        "2. Label your data with what you want your model to learn.\n",
        "3. Let your model detect patterns based on features you engineered.\n",
        "4. When a new data point arrives, your model can help you make a guess.\n",
        "\n",
        "\n",
        "\n",
        "\n",
        "\n"
      ]
    },
    {
      "cell_type": "markdown",
      "metadata": {
        "id": "76WnQxbmrIlL"
      },
      "source": [
        "Supervised learning models include mainly **classification** and **regression**. \n",
        "\n",
        "\n",
        "**Classification** is the task of predicting a **discrete** class label.\n",
        "**Regression** is the task of predicting a **continuous** quantity.\n",
        "\n",
        "\n",
        "<div align=\"center\"> \n",
        "<figure class=\"image\">\n",
        "  <img src=\"\n",
        "https://raw.githubusercontent.com/Yun-Han/YDSL_images/master/Classification-vs-Regression.png\" width =''>\n",
        "</figure>\n",
        "<figcaption>Pleas bear with my awesome(awful) hand writing! (>人<；)</figcaption>\n",
        "<div align=\"left\">\n",
        "\n",
        "\n",
        "\n",
        "Have you ever annoyed by **spam emails**? I guess not because no matter what email service your use such as Gmail, Yahoo, Outlook, you are well protected by spam filters powered by **machine learning techniques**. But 10-20 years ago, email service users were **not** as lucky as you are. If you want to know how important spam filters are to your online experience, try turning them off for a day ¬‿¬. \n",
        "\n",
        "<div align=\"center\"> \n",
        "<figure class=\"image\">\n",
        "  <img src=\"\n",
        "https://raw.githubusercontent.com/Yun-Han/YDSL_images/master/spam.gif\" width ='300'>\n",
        "</figure>\n",
        "<div align=\"left\">\n",
        "\n",
        "\n",
        "**Classification** has played a significant role in those spam filters. For example, **data scientists** collect **millions of emails** containing both **normal emails** and **spam emails**. And identify a bunch of important **features** for each email such as **number of words in the title**, **email address of the sender**, **word frequency in the main text**, etc. \n",
        "**Classification** model will be trained using these millions of emails and their features. When a new email arrives, the **classification model** would **make a prediction** that tells **whether this email is a spam or not** (two categories!).\n",
        "\n",
        "\n",
        "**Regression** has been widely used in predicting continuous values. For example, estimating house prices.\n",
        "\n",
        "\n",
        "<div align=\"center\"> \n",
        "<figure class=\"image\">\n",
        "  <img src=\"\n",
        "https://github.com/Yun-Han/YDSL_images/blob/master/Zillow-House-Price.png?raw=true\" width =''>\n",
        "</figure>\n",
        "<figcaption>Zillow estimate house prices!</figcaption>\n",
        "<div align=\"left\">\n",
        "\n",
        "**Data scientists** collect collect hundreds of thousands houses' information and their prices (real estate data). They crafted features such as **home size and usable space**, **age and condition**,**proximity to waterfront**, **school district** etc. A **regression** model can be trained using the real estate data and the crafted features to estimate a **house price (continuous values)** that just listed by a real estate agent."
      ]
    },
    {
      "cell_type": "markdown",
      "metadata": {
        "id": "9P-e03PbC-lZ"
      },
      "source": [
        "# <div align=\"center\">  New Information to Explore: **Machine Learning Models: Unsupervised Learning**\n",
        "\n",
        "\n",
        "## Unsupervised Learning:\n",
        "Let's, again, go back to your childhood memories!\n",
        "\n",
        "<font color=\"lightblue\" size=3.5>This time, your parents were cooking,  <br /> while you were left alone and bored to death,  <br /> decided to read the picture book of animal drawings alone.  <br /> </font>\n",
        "\n",
        "\n",
        "<div align=\"left\"> \n",
        "<figure class=\"image\">\n",
        "  <img src=\"https://raw.githubusercontent.com/Yun-Han/YDSL_images/master/Clustering%26clasification-Animales.gif\" width ='450'>\n",
        "<figcaption>Animal Classification vs. clustering! </figcaption>\n",
        "</figure>\n",
        "<div align=\"left\">\n",
        "\n",
        "\n",
        "<font color=\"lightblue\" size=3.5>You explored so many pictures, <br /> noticed that some animals have four legs, while some have two,  <br /> some are fluffy, while some are rough. <br />\n",
        "You saw animals with one horn and animals with two horns.<br />\n",
        "You could tell animals with different looks apart, even though nobody supervised your learning. </font>\n",
        "\n",
        "\n",
        "You unsupervised learning model can do what you did! No labels (No supervision) is needed. You models can work on its own to discover patterns and information that was previously undetected.\n",
        "\n",
        "\n",
        "\n",
        "\n"
      ]
    },
    {
      "cell_type": "markdown",
      "metadata": {
        "id": "-n2Lvit0FB0Q"
      },
      "source": [
        "# Reinforcement Learning\n",
        "\n",
        "To understand what is reinforcement learning, let's watch the following video (40 seconds)."
      ]
    },
    {
      "cell_type": "code",
      "metadata": {
        "colab": {
          "base_uri": "https://localhost:8080/",
          "height": 336
        },
        "cellView": "form",
        "id": "Cnah1Y45PyoR",
        "outputId": "b0065cd3-26df-4a41-b752-ceca528edad6"
      },
      "source": [
        "#@title A hen is having her reinforcement learning!\n",
        "from IPython.display import HTML, IFrame \n",
        "\n",
        "HTML('<iframe width=\"560\" height=\"315\" src=\"https://www.youtube.com/embed/spfpBrBjntg\" title=\"YouTube video player\" frameborder=\"0\" allow=\"accelerometer; autoplay; clipboard-write; encrypted-media; gyroscope; picture-in-picture\" allowfullscreen></iframe>')"
      ],
      "execution_count": null,
      "outputs": [
        {
          "output_type": "execute_result",
          "data": {
            "text/html": [
              "<iframe width=\"560\" height=\"315\" src=\"https://www.youtube.com/embed/spfpBrBjntg\" title=\"YouTube video player\" frameborder=\"0\" allow=\"accelerometer; autoplay; clipboard-write; encrypted-media; gyroscope; picture-in-picture\" allowfullscreen></iframe>"
            ],
            "text/plain": [
              "<IPython.core.display.HTML object>"
            ]
          },
          "metadata": {
            "tags": []
          },
          "execution_count": 2
        }
      ]
    },
    {
      "cell_type": "code",
      "metadata": {
        "colab": {
          "base_uri": "https://localhost:8080/",
          "height": 900
        },
        "cellView": "form",
        "id": "psSiPm0n7Q1y",
        "outputId": "f57f7989-b688-4f81-c83c-fff2380c8f39"
      },
      "source": [
        "#@title ^_^ \n",
        "import IPython\n",
        "IPython.display.HTML('<iframe src=\"https://docs.google.com/forms/d/e/1FAIpQLSdWWQ5En08Nenw_TK4ltydRYdYmooTx_iGlgu1EB6WqrXHGtQ/viewform?embedded=true\" width=\"640\" height=\"879\" frameborder=\"0\" marginheight=\"0\" marginwidth=\"0\">Loading…</iframe>')\n"
      ],
      "execution_count": null,
      "outputs": [
        {
          "output_type": "execute_result",
          "data": {
            "text/html": [
              "<iframe src=\"https://docs.google.com/forms/d/e/1FAIpQLSdWWQ5En08Nenw_TK4ltydRYdYmooTx_iGlgu1EB6WqrXHGtQ/viewform?embedded=true\" width=\"640\" height=\"879\" frameborder=\"0\" marginheight=\"0\" marginwidth=\"0\">Loading…</iframe>"
            ],
            "text/plain": [
              "<IPython.core.display.HTML object>"
            ]
          },
          "metadata": {},
          "execution_count": 1
        }
      ]
    },
    {
      "cell_type": "markdown",
      "metadata": {
        "id": "lWQHLEgIUoAk"
      },
      "source": [
        "The video you just watched is an example of **reinforcement learning**. **Reinforcement learning** is about learning while interacting with the world/environemnt. Below is a diagram that illustrates how **reinforcement learning** model works **in general**.\n",
        "\n",
        "<div align=\"center\"> \n",
        "<figure class=\"image\">\n",
        "  <img src=\"https://raw.githubusercontent.com/Yun-Han/YDSL_images/master/Reinforcement-Learning-Animation.gif\" width ='650'>\n",
        "<figcaption>Reinforcement learning framework! </figcaption>\n",
        "</figure>\n",
        "<div align=\"left\">\n",
        "\n",
        "**Reinforcement learning** consists of\n",
        "* **an agent** who interacts (by taking actions) with **the environemnt** to learn. \n",
        "* **an environment** that gives states and rewards to **the agent**.\n",
        "\n",
        "In the video you watched, **the agent** is **the hen** who are taught to peck on the pink sticker. **The environment**, created by the two girls, provides the arragement of the stickers (**states**) and grains (as **rewards**). By offering rewards (feeding the hen grains) whenever the agent makes the right actions (pecking on the pink sticker), **the environement** makes the hen learn how to take the right actions!\n",
        "\n",
        "**Reinforcement learning** has been mostly applied in areas where **sequential sequence making** is needed (the action you made last time will affect your current siatuation, hence affects your next action.) \n",
        "\n",
        "For example,\n",
        "* Card game and chess.\n",
        "<div align=\"center\"> \n",
        "<figure class=\"image\">\n",
        "  <img src=\"https://raw.githubusercontent.com/Yun-Han/YDSL_images/master/AlphaGo.gif\" width ='450'>\n",
        "<figcaption>AlphaGo is the first computer program to defeat a professional human Go world champion. <br /> Reinforcement learning is the key behind the success of AlphaGo. </figcaption>\n",
        "</figure>\n",
        "<div align=\"left\">\n",
        "\n",
        "* Video games.\n",
        "<div align=\"center\"> \n",
        "<figure class=\"image\">\n",
        "  <img src=\"https://github.com/Yun-Han/YDSL_images/blob/master/RLRobotic.gif?raw=true\" width ='450'>\n",
        "<figcaption>A robotic arm trained using reinforcement learning model.</figcaption>\n",
        "</figure>\n",
        "<div align=\"left\">\n",
        "\n",
        "\n",
        "***\n",
        "***\n",
        "\n",
        "\n"
      ]
    },
    {
      "cell_type": "markdown",
      "metadata": {
        "id": "qzloSVOCuATl"
      },
      "source": [
        "# <div align=\"center\">**THE END OF MODULE 5**\n",
        "\n",
        "Phew! We finally make it! In this week, we learned so many concepts about data modelling and you even got a chance to build your own mini-project! A BIG BIG BIG kudos to you! \n",
        "\n",
        "This is our last week. Together we have laughed, learned, inspired and became close friends. Fives weeks are so long that you have learned tons of new stuff. Fives weeks are also so short that our offline content team doesn't want to say Goodbye to you all. We have received so many responses you submitted, full of kindness, wisdom, and curiocity. We will miss you and look forward to seeing you in the near future!\n",
        "\n",
        "<div align=\"right\">\n",
        "\n",
        "Sincerely,\n",
        "\n",
        "YDSL\n",
        "***\n",
        "***\n",
        "\n",
        "\n",
        "\n"
      ]
    }
  ]
}